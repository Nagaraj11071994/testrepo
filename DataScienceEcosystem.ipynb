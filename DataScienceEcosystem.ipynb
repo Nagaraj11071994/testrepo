{
 "cells": [
  {
   "cell_type": "markdown",
   "id": "22307c79-d9a2-49c4-8a2e-16b2166705e0",
   "metadata": {},
   "source": [
    "# Data Science Tools and Ecosystem"
   ]
  },
  {
   "cell_type": "markdown",
   "id": "7e3c8c2a-0a7a-460d-aadc-a958b148edb9",
   "metadata": {},
   "source": [
    "In this notebook, Data Science Tools and Ecosystem are summarized"
   ]
  },
  {
   "cell_type": "markdown",
   "id": "b32f0994-7602-4094-9e47-cf2a591ecf40",
   "metadata": {},
   "source": [
    "# Objectives:\n",
    "* Learn popular tools used in Data Science\n",
    "* Learn popular langauges used in Data Science\n",
    "* Learn Data Science methodlogies\n",
    "* Simple DS program in python using Jupyter Notebook\n",
    "* Data Visualization tools like R Studio for plotting simple data sets"
   ]
  },
  {
   "cell_type": "markdown",
   "id": "0186773c-4772-4855-8436-1fa33c6ea0f7",
   "metadata": {},
   "source": [
    "Some of the popular languages that Data Scientist uses are:\n",
    "\n",
    "1. Python\n",
    "2. C++\n",
    "3. Java\n",
    "4. Scala\n",
    "5. JavaScript\n",
    "6. R\n",
    "7. SQL"
   ]
  },
  {
   "cell_type": "markdown",
   "id": "721d1a52-055b-4a3f-8b2d-51507c717836",
   "metadata": {},
   "source": [
    "Some of the commonly used libraries by Data Scientist include:\n",
    "\n",
    "1. Pandas\n",
    "2. NumPy\n",
    "3. Scikit\n",
    "4. TensorFlow\n",
    "   "
   ]
  },
  {
   "cell_type": "markdown",
   "id": "e44329aa-22bb-4a1d-b634-49bd959e939b",
   "metadata": {},
   "source": [
    " | Data Science Tools     |\n",
    " |--------------------    |\n",
    " | Jupyter Notebook       |\n",
    " | R Studio |\n",
    "| Visual Studio Code Editor |\n",
    "| Watson Studio |\n",
    " \n",
    " "
   ]
  },
  {
   "cell_type": "markdown",
   "id": "f90ea0a8-2a1a-43a7-bbcc-e7d2ec1ace6c",
   "metadata": {},
   "source": [
    " ### Below are a few examples of evaluating arithmetic expressions in Python"
   ]
  },
  {
   "cell_type": "code",
   "execution_count": 1,
   "id": "c9f9114d-e8c0-451e-bada-0acb1d3aab21",
   "metadata": {},
   "outputs": [
    {
     "data": {
      "text/plain": [
       "17"
      ]
     },
     "execution_count": 1,
     "metadata": {},
     "output_type": "execute_result"
    }
   ],
   "source": [
    "# This is simple arithmetic expression to multiply and add numbers\n",
    "\n",
    "(3*4)+5"
   ]
  },
  {
   "cell_type": "code",
   "execution_count": 2,
   "id": "0434da3a-5d32-414c-961c-1b930929220d",
   "metadata": {},
   "outputs": [
    {
     "data": {
      "text/plain": [
       "3.3333333333333335"
      ]
     },
     "execution_count": 2,
     "metadata": {},
     "output_type": "execute_result"
    }
   ],
   "source": [
    "# This will convert 200 minutes to hours by dividing 60\n",
    "200/60"
   ]
  },
  {
   "cell_type": "markdown",
   "id": "8dccb582-ba9c-4b7f-a3d3-7b3e0a77b681",
   "metadata": {},
   "source": [
    "## Author\n",
    "Nagaraj Naik"
   ]
  },
  {
   "cell_type": "code",
   "execution_count": null,
   "id": "7d383497-a964-4aa2-a0db-045558f60d75",
   "metadata": {},
   "outputs": [],
   "source": []
  },
  {
   "cell_type": "code",
   "execution_count": null,
   "id": "6150991e-5a2b-4b79-9254-28d0eed04b17",
   "metadata": {},
   "outputs": [],
   "source": []
  }
 ],
 "metadata": {
  "kernelspec": {
   "display_name": "Python [conda env:First_Env]",
   "language": "python",
   "name": "conda-env-First_Env-py"
  },
  "language_info": {
   "codemirror_mode": {
    "name": "ipython",
    "version": 3
   },
   "file_extension": ".py",
   "mimetype": "text/x-python",
   "name": "python",
   "nbconvert_exporter": "python",
   "pygments_lexer": "ipython3",
   "version": "3.13.5"
  }
 },
 "nbformat": 4,
 "nbformat_minor": 5
}
