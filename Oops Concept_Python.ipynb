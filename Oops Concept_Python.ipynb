{
 "cells": [
  {
   "cell_type": "code",
   "execution_count": 8,
   "id": "c9467100",
   "metadata": {},
   "outputs": [
    {
     "name": "stdout",
     "output_type": "stream",
     "text": [
      "bark\n"
     ]
    }
   ],
   "source": [
    "class Dog:\n",
    " sound = \"bark\" #This is a class attribute (shared by all instances)\n",
    "\n",
    "#Create a object for class\n",
    "\n",
    "dog1 = Dog()\n",
    "print(dog1.sound)"
   ]
  },
  {
   "cell_type": "code",
   "execution_count": 38,
   "id": "72f673f3",
   "metadata": {},
   "outputs": [
    {
     "name": "stdout",
     "output_type": "stream",
     "text": [
      "Raju and Kamlaa is cute are Feline\n",
      "Kamlaa is 7 years old\n",
      "Kamlaa is barking\n",
      "Raju is 11 years old\n"
     ]
    }
   ],
   "source": [
    "class Dog:\n",
    "    species = \"Canine\"\n",
    "\n",
    "    def __init__(self,name,age): #Automatically initializes object attribute \n",
    "        self.name = name\n",
    "        self.age = age\n",
    "    def bark(self):\n",
    "        print(f\"{self.name} is barking\")\n",
    "    def __str__(self):\n",
    "        return f\"{self.name} is {self.age} years old\"    \n",
    "\n",
    "\n",
    "#Creating object for dog class\n",
    "dog1=Dog(\"Buddy\", 7)\n",
    "dog2= Dog(\"Raju\",11)\n",
    "\n",
    "# Modify instance variables\n",
    "dog1.name = \"Kamlaa\"\n",
    "Dog.species = \"Feline\"\n",
    "print(f\"{dog2.name} and {dog1.name} is cute are {Dog.species}\")\n",
    "print(dog1)\n",
    "dog1.bark()\n",
    "print(dog2)\n",
    "       "
   ]
  },
  {
   "cell_type": "code",
   "execution_count": null,
   "id": "cbcaf7a1",
   "metadata": {},
   "outputs": [
    {
     "name": "stdout",
     "output_type": "stream",
     "text": [
      "Dog's name:Buddy\n",
      "Max guides the way!\n",
      "Dog's name:Raju\n",
      "Raju is Friendly\n",
      "Raju is golden retriever barks\n"
     ]
    }
   ],
   "source": [
    "#Demonstrating inheritance properties\n",
    "\n",
    "class Dog:\n",
    "    def __init__(self,name):\n",
    "        self.name =name\n",
    "    def display_name(self):\n",
    "        print(f\"Dog's name:{self.name}\")\n",
    "\n",
    "class Labrador(Dog):         #Single Inheritance\n",
    "    def sound(self):\n",
    "        print(\"Labrador woofs\") \n",
    "\n",
    "class GuideDog(Labrador):    #Multilevel Inheritance\n",
    "    def guide(self):\n",
    "        print(f\"{self.name} guides the way!\")\n",
    "\n",
    "class Friendly:          #Another class like Dog to demonstate Multiple inheritance\n",
    "    def greet(self):\n",
    "        print(f\"{self.name} is Friendly\")\n",
    "\n",
    "class GoldenRetriever(Dog,Friendly):    #Multiple inheritance\n",
    "    def sound(self):\n",
    "        print(f\"{self.name} is golden retriever barks\")\n",
    "\n",
    "#Example usage\n",
    "lab = Labrador(\"Buddy\")\n",
    "lab.display_name()\n",
    "\n",
    "gyde= GuideDog(\"Max\")\n",
    "gyde.guide()\n",
    "\n",
    "\n",
    "retriever=GoldenRetriever(\"Raju\")\n",
    "retriever.display_name()\n",
    "retriever.greet()\n",
    "retriever.sound()\n",
    "\n",
    "        \n",
    "\n"
   ]
  },
  {
   "cell_type": "code",
   "execution_count": 75,
   "id": "f60f517e",
   "metadata": {},
   "outputs": [
    {
     "name": "stdout",
     "output_type": "stream",
     "text": [
      "dog sound\n",
      "Labrador woofs\n",
      "Beagle barks\n",
      "16\n",
      "74\n"
     ]
    }
   ],
   "source": [
    "# Demonstrate overriding and polymorphism\n",
    "class Dog:\n",
    "    def sound(self):\n",
    "        print(\"dog sound\") # Default implementation\n",
    "\n",
    "class Labrador(Dog):\n",
    "    def sound(self):\n",
    "        print(\"Labrador woofs\") # overriding parent method\n",
    "\n",
    "class Beagle(Dog):\n",
    "    def sound(self):\n",
    "        print(\"Beagle barks\") #overriding parent method\n",
    "\n",
    "#Compile time polymorphism :Method overloading mimic\n",
    "class Calculator:\n",
    "    def add(self, a, b=2, c=0):\n",
    "        return a+b+c        #supports multiple ways to call add()\n",
    "\n",
    "#Run time polymorphism\n",
    "dogs= [Dog(), Labrador(),Beagle()]\n",
    "for dog in dogs:\n",
    "    dog.sound()\n",
    "\n",
    "#Compile time polymorphism\n",
    "calc= Calculator()\n",
    "print(calc.add(11,5))\n",
    "print(calc.add(17,45,12))\n",
    "            \n",
    "    \n",
    "\n",
    "\n",
    "\n"
   ]
  },
  {
   "cell_type": "code",
   "execution_count": null,
   "id": "93e490f6",
   "metadata": {},
   "outputs": [
    {
     "name": "stdout",
     "output_type": "stream",
     "text": [
      "Buddy\n",
      "Labrador\n",
      "7\n",
      "Name:Buddy, Breed:Labrador, Age:12\n"
     ]
    }
   ],
   "source": [
    "#Demonstrate Encapsulation\n",
    "class Dog:\n",
    "    def __init__(self,name,breed,age):\n",
    "        self.name= name\n",
    "        self._breed= breed\n",
    "        self.__age= age\n",
    "\n",
    "  #Public method\n",
    "    def get_info(self):\n",
    "        return ( f\"Name:{self.name}, Breed:{self._breed}, Age:{self.__age}\")\n",
    "    \n",
    "  #Getter and Setter for private attribute \n",
    "    def gett_age(self):\n",
    "        return self.__age\n",
    "    def set_age(self,age):\n",
    "         \n",
    "        if age > 0:\n",
    "         self.__age = age\n",
    "        else:\n",
    "            print(\"Inavlid age!\")\n",
    "\n",
    "\n",
    "\n",
    "dog =Dog(\"Buddy\", \"Labrador\", 7)\n",
    "\n",
    "print(dog.name)\n",
    "\n",
    "print(dog._breed) # Accessible but discouraged outside the class\n",
    "\n",
    "print(dog.gett_age()) #Accessing private member using getter\n",
    "\n",
    "dog.seqt_age(12) #Modifying private member using setter\n",
    "print(dog.get_info())\n"
   ]
  },
  {
   "cell_type": "code",
   "execution_count": 144,
   "id": "4a09bed3",
   "metadata": {},
   "outputs": [
    {
     "name": "stdout",
     "output_type": "stream",
     "text": [
      "Dog's name:Buddy\n",
      "Labrador woof!\n",
      "Dog's name:Max\n",
      "Beagle bark!\n"
     ]
    }
   ],
   "source": [
    "#Demonstration Abstraction\n",
    "from abc import ABC, abstractmethod\n",
    "class Dog(ABC):\n",
    "    def __init__(self,name):\n",
    "        self.name = name\n",
    "    @abstractmethod\n",
    "    def sound(self):\n",
    "        pass\n",
    "\n",
    "    def display_name(self):\n",
    "        print(f\"Dog's name:{self.name}\")\n",
    "\n",
    "class Labrador(Dog):\n",
    "    def sound(self):\n",
    "        print(\"Labrador woof!\")\n",
    "\n",
    "class Beagle(Dog):\n",
    "    def sound (self):\n",
    "        print (\"Beagle bark!\")\n",
    "\n",
    "dogs=[Labrador(\"Buddy\"),Beagle(\"Max\")]\n",
    "for dog in dogs:\n",
    " dog.display_name()\n",
    " dog.sound()\n",
    "\n",
    "\n"
   ]
  }
 ],
 "metadata": {
  "kernelspec": {
   "display_name": "Python 3",
   "language": "python",
   "name": "python3"
  },
  "language_info": {
   "codemirror_mode": {
    "name": "ipython",
    "version": 3
   },
   "file_extension": ".py",
   "mimetype": "text/x-python",
   "name": "python",
   "nbconvert_exporter": "python",
   "pygments_lexer": "ipython3",
   "version": "3.11.9"
  }
 },
 "nbformat": 4,
 "nbformat_minor": 5
}
